{
 "cells": [
  {
   "cell_type": "markdown",
   "metadata": {},
   "source": [
    "Setup GPU"
   ]
  },
  {
   "cell_type": "code",
   "execution_count": 2,
   "metadata": {},
   "outputs": [],
   "source": [
    "#gpus = tf.config.list_physical_devices('GPU')\n",
    "#print(\"Num GPUs Available: \", len(gpus))"
   ]
  },
  {
   "cell_type": "markdown",
   "metadata": {},
   "source": [
    "Create model"
   ]
  },
  {
   "cell_type": "code",
   "execution_count": 3,
   "metadata": {},
   "outputs": [],
   "source": [
    "# Import necessary libraries\n",
    "import tensorflow as tf\n",
    "from tensorflow import keras\n",
    "from tensorflow.keras import layers\n",
    "\n",
    "input_dim = 5\n",
    "\n",
    "# Create a sequential model\n",
    "model = keras.Sequential([\n",
    "    layers.Dense(64, activation='relu', input_shape=(input_dim,)),  # input_dim is the number of features\n",
    "    layers.Dense(64, activation='relu'),\n",
    "    layers.Dense(1)  # Output layer for regression (change for classification)\n",
    "])\n",
    "\n",
    "# Compile the model\n",
    "model.compile(optimizer='adam', loss='mean_squared_error')  # Change loss for classification\n"
   ]
  },
  {
   "cell_type": "markdown",
   "metadata": {},
   "source": [
    "Create some model data"
   ]
  },
  {
   "cell_type": "code",
   "execution_count": 4,
   "metadata": {},
   "outputs": [],
   "source": [
    "import numpy as np\n",
    "\n",
    "# Example data\n",
    "X_train = np.random.rand(100, 5)  # 100 samples, 5 features\n",
    "y_train = np.random.rand(100)      # 100 target values"
   ]
  },
  {
   "cell_type": "code",
   "execution_count": 5,
   "metadata": {},
   "outputs": [
    {
     "name": "stdout",
     "output_type": "stream",
     "text": [
      "Epoch 1/10\n",
      "4/4 [==============================] - 1s 5ms/step - loss: 0.4214\n",
      "Epoch 2/10\n",
      "4/4 [==============================] - 0s 591us/step - loss: 0.2683\n",
      "Epoch 3/10\n",
      "4/4 [==============================] - 0s 2ms/step - loss: 0.1712\n",
      "Epoch 4/10\n",
      "4/4 [==============================] - 0s 224us/step - loss: 0.1259\n",
      "Epoch 5/10\n",
      "4/4 [==============================] - 0s 2ms/step - loss: 0.1178\n",
      "Epoch 6/10\n",
      "4/4 [==============================] - 0s 1ms/step - loss: 0.1190\n",
      "Epoch 7/10\n",
      "4/4 [==============================] - 0s 6ms/step - loss: 0.1190\n",
      "Epoch 8/10\n",
      "4/4 [==============================] - 0s 5ms/step - loss: 0.1131\n",
      "Epoch 9/10\n",
      "4/4 [==============================] - 0s 6ms/step - loss: 0.1078\n",
      "Epoch 10/10\n",
      "4/4 [==============================] - 0s 4ms/step - loss: 0.1036\n"
     ]
    },
    {
     "data": {
      "text/plain": [
       "<keras.callbacks.History at 0x23419f0bc40>"
      ]
     },
     "execution_count": 5,
     "metadata": {},
     "output_type": "execute_result"
    }
   ],
   "source": [
    "model.fit(X_train, y_train, epochs=10, batch_size=32)"
   ]
  },
  {
   "cell_type": "markdown",
   "metadata": {},
   "source": [
    "Create some test data to sample against it"
   ]
  },
  {
   "cell_type": "code",
   "execution_count": 6,
   "metadata": {},
   "outputs": [
    {
     "name": "stdout",
     "output_type": "stream",
     "text": [
      "1/1 [==============================] - 0s 234ms/step - loss: 0.0839\n",
      "Test Loss: 0.08387323468923569\n"
     ]
    }
   ],
   "source": [
    "X_test = np.random.rand(20, 5)  # Example test data\n",
    "y_test = np.random.rand(20)\n",
    "\n",
    "loss = model.evaluate(X_test, y_test)\n",
    "print(f\"Test Loss: {loss}\")"
   ]
  },
  {
   "cell_type": "code",
   "execution_count": 7,
   "metadata": {},
   "outputs": [
    {
     "name": "stdout",
     "output_type": "stream",
     "text": [
      "1/1 [==============================] - 0s 118ms/step\n",
      "[[0.6038811 ]\n",
      " [0.64923203]\n",
      " [0.38815275]\n",
      " [0.5526905 ]\n",
      " [0.42132962]\n",
      " [0.5656702 ]\n",
      " [0.60098773]\n",
      " [0.5138129 ]\n",
      " [0.6826599 ]\n",
      " [0.514184  ]\n",
      " [0.39184734]\n",
      " [0.5882816 ]\n",
      " [0.54387486]\n",
      " [0.48156258]\n",
      " [0.696082  ]\n",
      " [0.5773845 ]\n",
      " [0.5905105 ]\n",
      " [0.502324  ]\n",
      " [0.28663138]\n",
      " [0.4195555 ]]\n"
     ]
    }
   ],
   "source": [
    "predictions = model.predict(X_test)\n",
    "print(predictions)"
   ]
  }
 ],
 "metadata": {
  "kernelspec": {
   "display_name": "myenv",
   "language": "python",
   "name": "python3"
  },
  "language_info": {
   "codemirror_mode": {
    "name": "ipython",
    "version": 3
   },
   "file_extension": ".py",
   "mimetype": "text/x-python",
   "name": "python",
   "nbconvert_exporter": "python",
   "pygments_lexer": "ipython3",
   "version": "3.10.13"
  }
 },
 "nbformat": 4,
 "nbformat_minor": 2
}
